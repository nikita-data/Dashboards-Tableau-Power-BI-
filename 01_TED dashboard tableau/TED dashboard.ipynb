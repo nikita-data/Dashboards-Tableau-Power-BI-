{
 "cells": [
  {
   "cell_type": "markdown",
   "id": "24c44f91",
   "metadata": {},
   "source": [
    "# Построение дашбордов в Tableau о конференциях TED"
   ]
  },
  {
   "cell_type": "markdown",
   "id": "3cdaeaba",
   "metadata": {},
   "source": [
    "**Описание проекта**"
   ]
  },
  {
   "cell_type": "markdown",
   "id": "46a17865",
   "metadata": {},
   "source": [
    "TED (от англ. technology, education, design — «технологии, образование, дизайн») — некоммерческий фонд, который проводит популярные конференции. На них выступают специалисты из разных областей и читают лекции на актуальные социальные, культурные и научные темы. \n",
    "\n",
    "В этом проекте мы исследуем историю TED-конференций с помощью Tableau."
   ]
  },
  {
   "cell_type": "markdown",
   "id": "5675359d",
   "metadata": {},
   "source": [
    "Cсылка на презентацию в Tableau по теме \"Исследование данных о конференциях TED\"\n",
    "\n",
    "[ссылка](https://public.tableau.com/app/profile/nikita.shestakov/viz/Story_TED_Shestakov/TED)"
   ]
  }
 ],
 "metadata": {
  "kernelspec": {
   "display_name": "Python 3 (ipykernel)",
   "language": "python",
   "name": "python3"
  },
  "language_info": {
   "codemirror_mode": {
    "name": "ipython",
    "version": 3
   },
   "file_extension": ".py",
   "mimetype": "text/x-python",
   "name": "python",
   "nbconvert_exporter": "python",
   "pygments_lexer": "ipython3",
   "version": "3.9.16"
  },
  "toc": {
   "base_numbering": 1,
   "nav_menu": {},
   "number_sections": true,
   "sideBar": true,
   "skip_h1_title": true,
   "title_cell": "Table of Contents",
   "title_sidebar": "Contents",
   "toc_cell": false,
   "toc_position": {},
   "toc_section_display": true,
   "toc_window_display": false
  }
 },
 "nbformat": 4,
 "nbformat_minor": 5
}
